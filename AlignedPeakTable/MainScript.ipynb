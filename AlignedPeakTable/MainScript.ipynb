{
 "cells": [
  {
   "cell_type": "code",
   "execution_count": null,
   "metadata": {},
   "outputs": [],
   "source": [
    "'''set up the working directory and folders'''\n",
    "import InitialSetup\n",
    "initial_setup_output = InitialSetup.initial_setup(withdate=False, get_input=True)\n",
    "file_path_input, file_path_output=initial_setup_output[0]\n",
    "spectra_scan_type, areas_scan_type, spectra_check_string = initial_setup_output[1]\n",
    "print(f'{areas_scan_type} type selected')\n",
    "print(f\"Copy input files to {file_path_input}\\n\")\n",
    "print(\"Initial setup complete\")\n",
    "\n",
    "'''Fetch profile in both formats'''\n",
    "import GeneralFunctions\n",
    "# profile_lines, profile_df = get_csv(return_type='both', title='Profile', initialdir=file_path_input)\n",
    "profile_df = GeneralFunctions.get_csv(return_type='df', title='Profile', initialdir=file_path_input, skip_blank_lines=False, skiprows=None)\n",
    "# can change the return type to lines once I add legacy functionality back in\n",
    "print(f\"profile file imported containing {max(profile_df.count())} features\")\n",
    "\n",
    "'''Check profile for duplicate features and rename them'''\n",
    "input_series = profile_df['Peak']\n",
    "profile_df['Peak'], nduplicates = GeneralFunctions.rename_duplicates(input_series)\n",
    "# profile_df.head()\n",
    "if nduplicates == 0:\n",
    "    print(\"No duplicate feature names found in profile\")\n",
    "else:\n",
    "    print(f'{nduplicates} duplicates found in list of profile features')\n",
    "\n",
    "'''Get Peak Areas and align peak table according to profile'''\n",
    "import PeakAreaFunctions\n",
    "PeakAreaFunctions.process_areas(file_path_input, file_path_output, profile_df)\n",
    "# areas_df = PeakAreasFunctions.get_areas_df(file_path_input)"
   ]
  }
 ],
 "metadata": {
  "kernelspec": {
   "display_name": "base",
   "language": "python",
   "name": "python3"
  },
  "language_info": {
   "codemirror_mode": {
    "name": "ipython",
    "version": 3
   },
   "file_extension": ".py",
   "mimetype": "text/x-python",
   "name": "python",
   "nbconvert_exporter": "python",
   "pygments_lexer": "ipython3",
   "version": "3.9.12 (main, Apr  4 2022, 05:22:27) [MSC v.1916 64 bit (AMD64)]"
  },
  "orig_nbformat": 4,
  "vscode": {
   "interpreter": {
    "hash": "e4c1874e7a35a65065c749fd96f24ad332473a79ce955a14bba6133febb86a5d"
   }
  }
 },
 "nbformat": 4,
 "nbformat_minor": 2
}
